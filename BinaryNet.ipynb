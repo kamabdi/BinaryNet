{
  "nbformat": 4,
  "nbformat_minor": 0,
  "metadata": {
    "colab": {
      "name": "BinaryNet.ipynb",
      "provenance": [],
      "collapsed_sections": [],
      "authorship_tag": "ABX9TyP+M/D5/U54Cu5PSS2YJaj9",
      "include_colab_link": true
    },
    "kernelspec": {
      "name": "python3",
      "display_name": "Python 3"
    },
    "accelerator": "GPU"
  },
  "cells": [
    {
      "cell_type": "markdown",
      "metadata": {
        "id": "view-in-github",
        "colab_type": "text"
      },
      "source": [
        "<a href=\"https://colab.research.google.com/github/kamabdi/BinaryNet/blob/master/BinaryNet.ipynb\" target=\"_parent\"><img src=\"https://colab.research.google.com/assets/colab-badge.svg\" alt=\"Open In Colab\"/></a>"
      ]
    },
    {
      "cell_type": "code",
      "metadata": {
        "id": "EMFQfx34W31X",
        "colab_type": "code",
        "colab": {}
      },
      "source": [
        "! git clone 'https://github.com/kamabdi/BinaryNet.git'"
      ],
      "execution_count": null,
      "outputs": []
    },
    {
      "cell_type": "code",
      "metadata": {
        "id": "8QyuIcyyhbJf",
        "colab_type": "code",
        "colab": {}
      },
      "source": [
        "#! rm -rf BinaryNet"
      ],
      "execution_count": null,
      "outputs": []
    },
    {
      "cell_type": "code",
      "metadata": {
        "id": "I2kEf_7YW0K0",
        "colab_type": "code",
        "colab": {}
      },
      "source": [
        "! python BinaryNet/main.py --num_th 1"
      ],
      "execution_count": null,
      "outputs": []
    }
  ]
}